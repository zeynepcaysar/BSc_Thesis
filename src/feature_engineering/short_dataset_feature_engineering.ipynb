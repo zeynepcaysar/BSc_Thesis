{
 "cells": [
  {
   "cell_type": "code",
   "execution_count": 1,
   "id": "21e09cab-5f31-43de-b9fc-4e1cd61596fb",
   "metadata": {},
   "outputs": [],
   "source": [
    "# Import necessary libraries\n",
    "import pandas as pd\n",
    "import numpy as np"
   ]
  },
  {
   "cell_type": "code",
   "execution_count": 2,
   "id": "5e08a43d",
   "metadata": {},
   "outputs": [],
   "source": [
    "final_output_path = '/data/caysar9/results/final_short.csv'"
   ]
  },
  {
   "cell_type": "code",
   "execution_count": 3,
   "id": "fdb5ee3a-8a4d-4f60-859d-f5a00ac6c43d",
   "metadata": {},
   "outputs": [
    {
     "name": "stdout",
     "output_type": "stream",
     "text": [
      "Loading data...\n"
     ]
    },
    {
     "data": {
      "text/html": [
       "<div>\n",
       "<style scoped>\n",
       "    .dataframe tbody tr th:only-of-type {\n",
       "        vertical-align: middle;\n",
       "    }\n",
       "\n",
       "    .dataframe tbody tr th {\n",
       "        vertical-align: top;\n",
       "    }\n",
       "\n",
       "    .dataframe thead th {\n",
       "        text-align: right;\n",
       "    }\n",
       "</style>\n",
       "<table border=\"1\" class=\"dataframe\">\n",
       "  <thead>\n",
       "    <tr style=\"text-align: right;\">\n",
       "      <th></th>\n",
       "      <th>query_date</th>\n",
       "      <th>studyid</th>\n",
       "      <th>all_locations</th>\n",
       "      <th>all_triggers</th>\n",
       "      <th>all_relieves</th>\n",
       "      <th>all_aff</th>\n",
       "      <th>gender</th>\n",
       "      <th>age_group</th>\n",
       "      <th>duration_in_secs</th>\n",
       "      <th>painintensity</th>\n",
       "      <th>...</th>\n",
       "      <th>reported_anxiety</th>\n",
       "      <th>reported_depression</th>\n",
       "      <th>sleep_duration</th>\n",
       "      <th>age</th>\n",
       "      <th>year</th>\n",
       "      <th>month</th>\n",
       "      <th>year_month</th>\n",
       "      <th>attack_duration_days</th>\n",
       "      <th>duration_in_hours</th>\n",
       "      <th>sleep_duration_hours</th>\n",
       "    </tr>\n",
       "  </thead>\n",
       "  <tbody>\n",
       "    <tr>\n",
       "      <th>0</th>\n",
       "      <td>2019-10-14</td>\n",
       "      <td>75939fe8d410b193f4e8b4e5b153473c48db3dd0</td>\n",
       "      <td>Traveling</td>\n",
       "      <td>MenstrualCycleStatus:NO,Allergies/Asthma,Skipp...</td>\n",
       "      <td>Rest/relax,Full meal,Sleep,Stay indoor</td>\n",
       "      <td>Not affected</td>\n",
       "      <td>F</td>\n",
       "      <td>25-34</td>\n",
       "      <td>23400.0</td>\n",
       "      <td>5.0</td>\n",
       "      <td>...</td>\n",
       "      <td>t</td>\n",
       "      <td>f</td>\n",
       "      <td>19080.0</td>\n",
       "      <td>29</td>\n",
       "      <td>2019</td>\n",
       "      <td>10</td>\n",
       "      <td>2019-10</td>\n",
       "      <td>0.270833</td>\n",
       "      <td>6.500000</td>\n",
       "      <td>5.300000</td>\n",
       "    </tr>\n",
       "    <tr>\n",
       "      <th>1</th>\n",
       "      <td>2019-10-14</td>\n",
       "      <td>d489170372ec75900dc619ccf5bca5fae5b0aaf9</td>\n",
       "      <td>Cricket</td>\n",
       "      <td>Weather,MenstrualCycleStatus:NO</td>\n",
       "      <td>Dark room rest,Sleep</td>\n",
       "      <td>Missed family time</td>\n",
       "      <td>F</td>\n",
       "      <td>45-54</td>\n",
       "      <td>14400.0</td>\n",
       "      <td>9.0</td>\n",
       "      <td>...</td>\n",
       "      <td>f</td>\n",
       "      <td>f</td>\n",
       "      <td>26690.0</td>\n",
       "      <td>45</td>\n",
       "      <td>2019</td>\n",
       "      <td>10</td>\n",
       "      <td>2019-10</td>\n",
       "      <td>0.166667</td>\n",
       "      <td>4.000000</td>\n",
       "      <td>7.413889</td>\n",
       "    </tr>\n",
       "    <tr>\n",
       "      <th>2</th>\n",
       "      <td>2019-10-14</td>\n",
       "      <td>47e23d3867c5c22f889fdc7595bdc42527058e52</td>\n",
       "      <td>In transit/commuting</td>\n",
       "      <td>Physical exertion,Bright light,Anxiety,The wea...</td>\n",
       "      <td>Drink water</td>\n",
       "      <td>Slow work,Pushed through</td>\n",
       "      <td>F</td>\n",
       "      <td>45-54</td>\n",
       "      <td>49200.0</td>\n",
       "      <td>5.0</td>\n",
       "      <td>...</td>\n",
       "      <td>t</td>\n",
       "      <td>f</td>\n",
       "      <td>41760.0</td>\n",
       "      <td>48</td>\n",
       "      <td>2019</td>\n",
       "      <td>10</td>\n",
       "      <td>2019-10</td>\n",
       "      <td>0.569444</td>\n",
       "      <td>13.666667</td>\n",
       "      <td>11.600000</td>\n",
       "    </tr>\n",
       "    <tr>\n",
       "      <th>3</th>\n",
       "      <td>2019-10-14</td>\n",
       "      <td>800ecda24ab67e8319d66220670fda50e70e3ad7</td>\n",
       "      <td>Work</td>\n",
       "      <td>Lack of sleep,Dehydrated,Anxiety</td>\n",
       "      <td>Exercise</td>\n",
       "      <td>Not affected</td>\n",
       "      <td>F</td>\n",
       "      <td>45-54</td>\n",
       "      <td>28140.0</td>\n",
       "      <td>4.0</td>\n",
       "      <td>...</td>\n",
       "      <td>t</td>\n",
       "      <td>f</td>\n",
       "      <td>25200.0</td>\n",
       "      <td>52</td>\n",
       "      <td>2019</td>\n",
       "      <td>10</td>\n",
       "      <td>2019-10</td>\n",
       "      <td>0.325694</td>\n",
       "      <td>7.816667</td>\n",
       "      <td>7.000000</td>\n",
       "    </tr>\n",
       "    <tr>\n",
       "      <th>4</th>\n",
       "      <td>2019-10-12</td>\n",
       "      <td>be5fc3b68b752ca261e063fcaaef9500bc529be6</td>\n",
       "      <td>Show</td>\n",
       "      <td>Physical exertion,Lack of sleep,Stress,Neck St...</td>\n",
       "      <td>Soda,Hot Bath w/ Epsom</td>\n",
       "      <td>Hard to drive</td>\n",
       "      <td>F</td>\n",
       "      <td>35-44</td>\n",
       "      <td>32400.0</td>\n",
       "      <td>7.0</td>\n",
       "      <td>...</td>\n",
       "      <td>f</td>\n",
       "      <td>t</td>\n",
       "      <td>37020.0</td>\n",
       "      <td>43</td>\n",
       "      <td>2019</td>\n",
       "      <td>10</td>\n",
       "      <td>2019-10</td>\n",
       "      <td>0.375000</td>\n",
       "      <td>9.000000</td>\n",
       "      <td>10.283333</td>\n",
       "    </tr>\n",
       "  </tbody>\n",
       "</table>\n",
       "<p>5 rows × 25 columns</p>\n",
       "</div>"
      ],
      "text/plain": [
       "   query_date                                   studyid         all_locations  \\\n",
       "0  2019-10-14  75939fe8d410b193f4e8b4e5b153473c48db3dd0             Traveling   \n",
       "1  2019-10-14  d489170372ec75900dc619ccf5bca5fae5b0aaf9               Cricket   \n",
       "2  2019-10-14  47e23d3867c5c22f889fdc7595bdc42527058e52  In transit/commuting   \n",
       "3  2019-10-14  800ecda24ab67e8319d66220670fda50e70e3ad7                  Work   \n",
       "4  2019-10-12  be5fc3b68b752ca261e063fcaaef9500bc529be6                  Show   \n",
       "\n",
       "                                        all_triggers  \\\n",
       "0  MenstrualCycleStatus:NO,Allergies/Asthma,Skipp...   \n",
       "1                    Weather,MenstrualCycleStatus:NO   \n",
       "2  Physical exertion,Bright light,Anxiety,The wea...   \n",
       "3                   Lack of sleep,Dehydrated,Anxiety   \n",
       "4  Physical exertion,Lack of sleep,Stress,Neck St...   \n",
       "\n",
       "                             all_relieves                   all_aff gender  \\\n",
       "0  Rest/relax,Full meal,Sleep,Stay indoor              Not affected      F   \n",
       "1                    Dark room rest,Sleep        Missed family time      F   \n",
       "2                             Drink water  Slow work,Pushed through      F   \n",
       "3                                Exercise              Not affected      F   \n",
       "4                  Soda,Hot Bath w/ Epsom             Hard to drive      F   \n",
       "\n",
       "  age_group  duration_in_secs  painintensity  ...  reported_anxiety  \\\n",
       "0     25-34           23400.0            5.0  ...                 t   \n",
       "1     45-54           14400.0            9.0  ...                 f   \n",
       "2     45-54           49200.0            5.0  ...                 t   \n",
       "3     45-54           28140.0            4.0  ...                 t   \n",
       "4     35-44           32400.0            7.0  ...                 f   \n",
       "\n",
       "   reported_depression  sleep_duration  age  year month year_month  \\\n",
       "0                    f         19080.0   29  2019    10    2019-10   \n",
       "1                    f         26690.0   45  2019    10    2019-10   \n",
       "2                    f         41760.0   48  2019    10    2019-10   \n",
       "3                    f         25200.0   52  2019    10    2019-10   \n",
       "4                    t         37020.0   43  2019    10    2019-10   \n",
       "\n",
       "   attack_duration_days  duration_in_hours  sleep_duration_hours  \n",
       "0              0.270833           6.500000              5.300000  \n",
       "1              0.166667           4.000000              7.413889  \n",
       "2              0.569444          13.666667             11.600000  \n",
       "3              0.325694           7.816667              7.000000  \n",
       "4              0.375000           9.000000             10.283333  \n",
       "\n",
       "[5 rows x 25 columns]"
      ]
     },
     "execution_count": 3,
     "metadata": {},
     "output_type": "execute_result"
    }
   ],
   "source": [
    "#put the dataset that comes from short_dataset_preprocess.ipynb file\n",
    "file_path = '/data/caysar9/results/final_minimum_migraine.csv'\n",
    "# Load migraine data\n",
    "print(\"Loading data...\")\n",
    "df = pd.read_csv(file_path)\n",
    "df.head()"
   ]
  },
  {
   "cell_type": "code",
   "execution_count": 4,
   "id": "baa6a6bf-b1ae-4104-9903-0e2aaba20fc3",
   "metadata": {},
   "outputs": [
    {
     "name": "stdout",
     "output_type": "stream",
     "text": [
      "<class 'pandas.core.frame.DataFrame'>\n",
      "RangeIndex: 14402 entries, 0 to 14401\n",
      "Data columns (total 25 columns):\n",
      " #   Column                Non-Null Count  Dtype  \n",
      "---  ------                --------------  -----  \n",
      " 0   query_date            14402 non-null  object \n",
      " 1   studyid               14402 non-null  object \n",
      " 2   all_locations         14402 non-null  object \n",
      " 3   all_triggers          14402 non-null  object \n",
      " 4   all_relieves          14402 non-null  object \n",
      " 5   all_aff               14402 non-null  object \n",
      " 6   gender                14402 non-null  object \n",
      " 7   age_group             14402 non-null  object \n",
      " 8   duration_in_secs      14402 non-null  float64\n",
      " 9   painintensity         14402 non-null  float64\n",
      " 10  ua_still              14402 non-null  float64\n",
      " 11  ua_walking            14402 non-null  float64\n",
      " 12  ua_cycling            14402 non-null  float64\n",
      " 13  ua_running            14402 non-null  float64\n",
      " 14  ua_wor                14402 non-null  float64\n",
      " 15  reported_anxiety      14402 non-null  object \n",
      " 16  reported_depression   14402 non-null  object \n",
      " 17  sleep_duration        14402 non-null  float64\n",
      " 18  age                   14402 non-null  int64  \n",
      " 19  year                  14402 non-null  int64  \n",
      " 20  month                 14402 non-null  int64  \n",
      " 21  year_month            14402 non-null  object \n",
      " 22  attack_duration_days  14402 non-null  float64\n",
      " 23  duration_in_hours     14402 non-null  float64\n",
      " 24  sleep_duration_hours  14402 non-null  float64\n",
      "dtypes: float64(11), int64(3), object(11)\n",
      "memory usage: 2.7+ MB\n"
     ]
    }
   ],
   "source": [
    "df.info()"
   ]
  },
  {
   "cell_type": "code",
   "execution_count": 5,
   "id": "d93dfbd4",
   "metadata": {},
   "outputs": [],
   "source": [
    "# create migraine days per month (the number of unique migraine days)\n",
    "\n",
    "# Ensure `query_date` is in datetime format, and then extract the day to define unique migraine days\n",
    "df[\"query_date\"] = pd.to_datetime(df[\"query_date\"])\n",
    "df[\"day\"] = df[\"query_date\"].dt.to_period(\"D\") \n",
    "\n",
    "# Filter to include only rows with a positive `attack_duration_days` to count only actual migraine days\n",
    "df_with_migraine_days = df[df[\"attack_duration_days\"] > 0]\n",
    "\n",
    "# Group by `studyid` and count unique migraine days in the month\n",
    "migraine_days_per_month = df_with_migraine_days.groupby(\"studyid\")[\"day\"].nunique().reset_index()\n",
    "\n",
    "# Rename the column to represent the count of unique migraine days per month\n",
    "migraine_days_per_month.rename(columns={\"day\": \"migraine_days_per_month\"}, inplace=True)\n",
    "\n",
    "df = df.merge(migraine_days_per_month, on=\"studyid\", how=\"left\")\n"
   ]
  },
  {
   "cell_type": "code",
   "execution_count": 6,
   "id": "93a1a4ec-6da2-4c21-9364-b253ab4afa67",
   "metadata": {},
   "outputs": [],
   "source": [
    "# Convert the 'all_triggers' column to lowercase\n",
    "df['all_triggers'] = df['all_triggers'].str.lower()\n",
    "\n",
    "# keyword patterns for each category\n",
    "# Broad sleep-related words for poor sleep quality\n",
    "trigger_poor_sleep_keywords = ['sleep', 'nap', 'nightmare', 'restless', 'insomnia', 'vivid dream','interrupted']\n",
    "\n",
    "# Broad words for lack of sleep\n",
    "trigger_lack_sleep_keywords = ['lack of sleep', 'up late', 'late to bed', 'slept late', 'not enough sleep', 'insufficient sleep', 'no sleep', 'woke up early']\n",
    "\n",
    "# Broad words for physical activity\n",
    "trigger_physical_activity_keywords = ['physical','activity', 'exertion', 'exercise', 'running', 'walking', 'biking', 'yoga', 'work out', 'muscle']\n",
    "\n",
    "# Broad words for lack of physical activity\n",
    "trigger_lack_physical_activity_keywords = ['inactivity', 'no exercise', 'lack of exercise', 'sitting', 'skipped', 'missed work out', 'not enough movement','not enough exercice']\n",
    "\n",
    "# Broad words for stress-related triggers\n",
    "trigger_stress_keywords = ['stress', 'anxiety', 'overthinking', 'depression', 'emotional', 'worry', 'overwhelmed', 'nervous', 'mental', 'upset']"
   ]
  },
  {
   "cell_type": "code",
   "execution_count": 7,
   "id": "aae00aa4-bca9-4b33-a707-fad0ff3d9f2f",
   "metadata": {},
   "outputs": [],
   "source": [
    "def create_flag_column(df, column, keywords):\n",
    "    pattern = '|'.join(keywords)\n",
    "    return df[column].str.contains(pattern, case=False, na=False).astype(int)\n",
    "\n",
    "# Create trigger columns\n",
    "df['trigger_poor_sleep'] = create_flag_column(df, 'all_triggers', trigger_poor_sleep_keywords)\n",
    "df['trigger_lack_sleep'] = create_flag_column(df, 'all_triggers', trigger_lack_sleep_keywords)\n",
    "df['trigger_physical_activity'] = create_flag_column(df, 'all_triggers', trigger_physical_activity_keywords)\n",
    "df['trigger_lack_physical_activity'] = create_flag_column(df, 'all_triggers', trigger_lack_physical_activity_keywords)\n",
    "df['trigger_stress'] = create_flag_column(df, 'all_triggers', trigger_stress_keywords)"
   ]
  },
  {
   "cell_type": "code",
   "execution_count": 8,
   "id": "07420633-90f6-44c6-89f6-beeb9f731d31",
   "metadata": {},
   "outputs": [],
   "source": [
    "# Convert the 'reliefs' column to lowercase\n",
    "df['all_relieves'] = df['all_relieves'].str.lower()\n",
    "\n",
    "# keyword patterns for each category\n",
    "\n",
    "# Broad sleep-related words for sleep \n",
    "relief_sleep_keywords = ['sleep', 'nap', 'couch', 'bed','rest','lay']\n",
    "\n",
    "# Broad words for physical activity\n",
    "relief_physical_activity_keywords = ['physical','activity', 'exertion', 'exercise', 'running', 'walking', 'walk','biking','bike ride', 'yoga', 'work out', 'muscle','stretch','movement','moving']\n",
    "\n",
    "# Broad words for lack of physical activity\n",
    "relief_lack_physical_activity_keywords = ['no movement', 'stop activity', 'stay still', 'no exercice', 'stay motionless', 'minimal activity', 'limited movement']\n"
   ]
  },
  {
   "cell_type": "code",
   "execution_count": 9,
   "id": "0dd6174a-c0d6-4a6d-8981-8aace708e755",
   "metadata": {},
   "outputs": [],
   "source": [
    "# Create reliefs columns\n",
    "df['relief_sleep'] = create_flag_column(df, 'all_relieves', relief_sleep_keywords)\n",
    "df['relief_physical_activity'] = create_flag_column(df, 'all_relieves', relief_physical_activity_keywords)\n",
    "df['relief_lack_physical_activity'] = create_flag_column(df, 'all_relieves', relief_lack_physical_activity_keywords)"
   ]
  },
  {
   "cell_type": "code",
   "execution_count": 10,
   "id": "cbe1fcf9-4412-4d16-9f7a-b7aa270fb07f",
   "metadata": {},
   "outputs": [],
   "source": [
    "df['all_aff'] = df['all_aff'].str.lower()\n",
    "# Affected activities related to Quality of Life\n",
    "quality_of_life_aff_activities_keywords = ['hard to concentrate','slower [at home]', 'missed work', 'missed family time', 'slower [at work]', 'missed social activity', 'missed school', 'concentration', 'tired', 'unproductive', 'not social', 'no energy', 'no appetite', 'slow/soft [house]', 'slow/soft [work]', 'family time', 'difficulties to concentrate', 'school missed']"
   ]
  },
  {
   "cell_type": "code",
   "execution_count": 11,
   "id": "31885cb1-6fa0-49bf-b731-c8719b260330",
   "metadata": {},
   "outputs": [],
   "source": [
    "# Create reliefs columns\n",
    "df['affected_activity_QoL'] = create_flag_column(df, 'all_aff', quality_of_life_aff_activities_keywords)"
   ]
  },
  {
   "cell_type": "code",
   "execution_count": 12,
   "id": "1a38e944-57a9-4c02-ae45-0965c641cc48",
   "metadata": {},
   "outputs": [],
   "source": [
    "# create activity groups based on user activity passive data\n",
    "\n",
    "# calculate total activity per day \n",
    "df['total_physical_activity'] = df['ua_running'] + df['ua_walking'] + df['ua_cycling'] + df['ua_wor']\n",
    "\n",
    "df['query_date'] = pd.to_datetime(df['query_date'])\n",
    "\n",
    "# Calculate total activity per week for each user based on studyid\n",
    "# Group by hashed_uid and week number, then sum the total activity\n",
    "df['week'] = df['query_date'].dt.isocalendar().week  \n",
    "weekly_activity = df.groupby(['studyid', 'week']).agg(\n",
    "    total_activity_per_week=('total_physical_activity', 'sum')\n",
    ").reset_index()\n",
    "\n",
    "# Calculate the mean activity per user (over multiple weeks)\n",
    "user_weekly_activity_means = weekly_activity.groupby('studyid').agg(\n",
    "    mean_total_activity_per_week=('total_activity_per_week', 'mean')\n",
    ").reset_index()\n",
    "\n",
    "# Categorize users based on the mean weekly activity thresholds based on WHO's activity recommendations\n",
    "# Less than 150 minutes per week = Sedentary\n",
    "# 150–300 minutes per week = Active\n",
    "# More than 300 minutes per week = Highly Active\n",
    "user_weekly_activity_means['activity_group'] = pd.cut(user_weekly_activity_means['mean_total_activity_per_week'],\n",
    "                                                      bins=[-np.inf, 150, 300, np.inf],\n",
    "                                                      labels=['Sedentary', 'Active', 'Highly Active'])\n",
    "\n",
    "df = pd.merge(df, user_weekly_activity_means[['studyid', 'activity_group']], on='studyid', how='left')\n",
    "\n"
   ]
  },
  {
   "cell_type": "code",
   "execution_count": 13,
   "id": "32274e88-0af9-4c12-8a43-28e9a9ae6c4b",
   "metadata": {},
   "outputs": [],
   "source": [
    "# create sleep groups \n",
    "\n",
    "# Group by hashed_uid to calculate the mean sleep duration for each user\n",
    "user_sleep_means = df.groupby('studyid').agg(\n",
    "    mean_sleep_duration=('sleep_duration_hours', 'mean')\n",
    ").reset_index()\n",
    "\n",
    "# Categorize users based on the mean sleep duration\n",
    "# Short sleep: less than 7 hours\n",
    "# Adequate sleep: between 7 and 9 hours\n",
    "# Excessive sleep: more than 9 hours\n",
    "user_sleep_means['sleep_group'] = pd.cut(user_sleep_means['mean_sleep_duration'],\n",
    "                                         bins=[-np.inf, 7, 9, np.inf],\n",
    "                                         labels=['Short Sleep', 'Adequate Sleep', 'Excessive Sleep'])\n",
    "\n",
    "df = pd.merge(df, user_sleep_means[['studyid', 'sleep_group']], on='studyid', how='left')"
   ]
  },
  {
   "cell_type": "code",
   "execution_count": 14,
   "id": "98e44be5-7636-4d47-9912-7198b0735ddf",
   "metadata": {},
   "outputs": [],
   "source": [
    "#feature engineering - creating new columns to be used in the models\n",
    "\n",
    "df = df.sort_values(by=['studyid', 'query_date'])\n",
    "\n",
    "# Average for Sleep Duration (Past 7 Days)\n",
    "df['sleep_duration_past_7_days'] = df.groupby('studyid')['sleep_duration_hours'].rolling(window=7, min_periods=1).mean().reset_index(0, drop=True)\n",
    "\n",
    "# Create a count of migraine_attacks_past7days (number of migraine attacks over the past 7 days)\n",
    "df['migraine_attacks_past7days'] = (df.assign(migraine_occurred=(df['duration_in_hours'] > 0).astype(int)).groupby('studyid')['migraine_occurred'].rolling(window=7, min_periods=1).sum().reset_index(0, drop=True))\n",
    "\n",
    "# Create the 'mean_migraine_duration_past7days' column (avearage migraine duration of migraine attacks over the past 7 days)\n",
    "df['mean_migraine_duration_past7days'] = (df.groupby('studyid')['duration_in_hours'].rolling(window=7, min_periods=1).mean().reset_index(0, drop=True))                                    "
   ]
  },
  {
   "cell_type": "code",
   "execution_count": 15,
   "id": "e9d8a732",
   "metadata": {},
   "outputs": [],
   "source": [
    "# Encoding 'reported_anxiety' and 'reported_depression' columns\n",
    "df['reported_anxiety'] = df['reported_anxiety'].map({'t': 1, 'f': 0})\n",
    "df['reported_depression'] = df['reported_depression'].map({'t': 1, 'f': 0})"
   ]
  },
  {
   "cell_type": "code",
   "execution_count": 16,
   "id": "0a908cac-84b4-4eef-a9c9-f671b94b948c",
   "metadata": {},
   "outputs": [
    {
     "name": "stderr",
     "output_type": "stream",
     "text": [
      "/tmp/ipykernel_330567/4180150545.py:28: DeprecationWarning: DataFrameGroupBy.apply operated on the grouping columns. This behavior is deprecated, and in a future version of pandas the grouping columns will be excluded from the operation. Either pass `include_groups=False` to exclude the groupings or explicitly select the grouping columns after groupby to silence this warning.\n",
      "  df = df.groupby('studyid').apply(next_migraine_within_window, time_window=time_window)\n"
     ]
    }
   ],
   "source": [
    "# create next migraine window (7 days)\n",
    "\n",
    "# Sort by user and date\n",
    "df = df.sort_values(by=['studyid', 'query_date']).reset_index(drop=True)\n",
    "\n",
    "# query_date is in datetime format\n",
    "df['query_date'] = pd.to_datetime(df['query_date'])\n",
    "\n",
    "# Define a 7-day time window\n",
    "time_window = 7\n",
    "\n",
    "# Function to check for a migraine occurrence within the next 'time_window' days, in my case: 7\n",
    "def next_migraine_within_window(df, time_window):\n",
    "    for idx in range(len(df)):\n",
    "        current_day = df.iloc[idx]['query_date']\n",
    "        future_rows = df[(df['query_date'] > current_day) & \n",
    "                         (df['query_date'] <= current_day + pd.Timedelta(days=time_window))]\n",
    "        # If any of the future rows have 'duration_in_hours' > 0, set 'next_migraine_in_window' to 1\n",
    "        if any(future_rows['duration_in_hours'] > 0):\n",
    "            df.iloc[idx, df.columns.get_loc('next_migraine_in_window')] = 1  \n",
    "        else:\n",
    "            df.iloc[idx, df.columns.get_loc('next_migraine_in_window')] = 0\n",
    "    return df\n",
    "\n",
    "df['next_migraine_in_window'] = 0\n",
    "\n",
    "# Apply the function for each user\n",
    "df = df.groupby('studyid').apply(next_migraine_within_window, time_window=time_window)\n",
    "\n",
    "df.reset_index(drop=True, inplace=True)\n"
   ]
  },
  {
   "cell_type": "code",
   "execution_count": 17,
   "id": "d8d024d2-ab50-4619-82da-f9feebcc356f",
   "metadata": {},
   "outputs": [
    {
     "data": {
      "text/plain": [
       "next_migraine_in_window\n",
       "0    9340\n",
       "1    5062\n",
       "Name: count, dtype: int64"
      ]
     },
     "execution_count": 17,
     "metadata": {},
     "output_type": "execute_result"
    }
   ],
   "source": [
    "df['next_migraine_in_window'].value_counts()"
   ]
  },
  {
   "cell_type": "code",
   "execution_count": 18,
   "id": "34f5496f-1875-450f-8255-e9785951adce",
   "metadata": {},
   "outputs": [
    {
     "name": "stderr",
     "output_type": "stream",
     "text": [
      "/tmp/ipykernel_330567/1486320078.py:28: DeprecationWarning: DataFrameGroupBy.apply operated on the grouping columns. This behavior is deprecated, and in a future version of pandas the grouping columns will be excluded from the operation. Either pass `include_groups=False` to exclude the groupings or explicitly select the grouping columns after groupby to silence this warning.\n",
      "  df = df.groupby('studyid').apply(next_migraine_next_day)\n"
     ]
    }
   ],
   "source": [
    "# create next migraine next day\n",
    "\n",
    "# Sort by user and date\n",
    "df = df.sort_values(by=['studyid', 'query_date']).reset_index(drop=True)\n",
    "\n",
    "# Ensure query_date is in datetime format\n",
    "df['query_date'] = pd.to_datetime(df['query_date'])\n",
    "\n",
    "# Define a 1-day time window for the next day\n",
    "time_window = 1\n",
    "\n",
    "# Function to check for a migraine occurrence the next day\n",
    "def next_migraine_next_day(df):\n",
    "    for idx in range(len(df)):\n",
    "        current_day = df.iloc[idx]['query_date']\n",
    "        future_rows = df[(df['query_date'] == current_day + pd.Timedelta(days=time_window))]\n",
    "        # If any of the future rows have 'duration_in_hours' > 0, set 'next_migraine_next_day' to 1\n",
    "        if any(future_rows['duration_in_hours'] > 0):\n",
    "            df.iloc[idx, df.columns.get_loc('next_migraine_next_day')] = 1  \n",
    "        else:\n",
    "            df.iloc[idx, df.columns.get_loc('next_migraine_next_day')] = 0\n",
    "    return df\n",
    "\n",
    "# Add a new column 'next_migraine_next_day'\n",
    "df['next_migraine_next_day'] = 0\n",
    "\n",
    "# Apply the function for each user\n",
    "df = df.groupby('studyid').apply(next_migraine_next_day)\n",
    "\n",
    "df.reset_index(drop=True, inplace=True)\n"
   ]
  },
  {
   "cell_type": "code",
   "execution_count": 19,
   "id": "e7191503-8fda-4e1b-ad5c-0b86c191fb8a",
   "metadata": {},
   "outputs": [
    {
     "data": {
      "text/plain": [
       "next_migraine_next_day\n",
       "0    12943\n",
       "1     1459\n",
       "Name: count, dtype: int64"
      ]
     },
     "execution_count": 19,
     "metadata": {},
     "output_type": "execute_result"
    }
   ],
   "source": [
    "df['next_migraine_next_day'].value_counts()"
   ]
  },
  {
   "cell_type": "code",
   "execution_count": 20,
   "id": "1ae7acea-f654-4681-a5e5-f7ca47b6512f",
   "metadata": {},
   "outputs": [],
   "source": [
    "# Defined thresholds for severe migraine\n",
    "severe_pain_threshold = 7\n",
    "severe_duration_threshold = 24  # in hours\n",
    "\n",
    "# Create a new column 'severe_migraine' based on the thresholds\n",
    "df['severe_migraine'] = (\n",
    "    (df['painintensity'] >= severe_pain_threshold) &\n",
    "    (df['duration_in_hours'] >= severe_duration_threshold)\n",
    ").astype(int)\n"
   ]
  },
  {
   "cell_type": "code",
   "execution_count": 21,
   "id": "18f9101f-f034-48d4-a513-a31bb8d684cc",
   "metadata": {},
   "outputs": [
    {
     "data": {
      "text/plain": [
       "severe_migraine\n",
       "0    14395\n",
       "1        7\n",
       "Name: count, dtype: int64"
      ]
     },
     "execution_count": 21,
     "metadata": {},
     "output_type": "execute_result"
    }
   ],
   "source": [
    "df['severe_migraine'].value_counts() # there are nearly no severe migraine events in the dataset"
   ]
  },
  {
   "cell_type": "code",
   "execution_count": 22,
   "id": "92f026f2",
   "metadata": {},
   "outputs": [
    {
     "data": {
      "text/plain": [
       "affected_activity_QoL\n",
       "0    8798\n",
       "1    5604\n",
       "Name: count, dtype: int64"
      ]
     },
     "execution_count": 22,
     "metadata": {},
     "output_type": "execute_result"
    }
   ],
   "source": [
    "df['affected_activity_QoL'].value_counts()"
   ]
  },
  {
   "cell_type": "code",
   "execution_count": 23,
   "id": "c82e4d74",
   "metadata": {},
   "outputs": [
    {
     "name": "stdout",
     "output_type": "stream",
     "text": [
      "<class 'pandas.core.frame.DataFrame'>\n",
      "RangeIndex: 14402 entries, 0 to 14401\n",
      "Data columns (total 46 columns):\n",
      " #   Column                            Non-Null Count  Dtype         \n",
      "---  ------                            --------------  -----         \n",
      " 0   query_date                        14402 non-null  datetime64[ns]\n",
      " 1   studyid                           14402 non-null  object        \n",
      " 2   all_locations                     14402 non-null  object        \n",
      " 3   all_triggers                      14402 non-null  object        \n",
      " 4   all_relieves                      14402 non-null  object        \n",
      " 5   all_aff                           14402 non-null  object        \n",
      " 6   gender                            14402 non-null  object        \n",
      " 7   age_group                         14402 non-null  object        \n",
      " 8   duration_in_secs                  14402 non-null  float64       \n",
      " 9   painintensity                     14402 non-null  float64       \n",
      " 10  ua_still                          14402 non-null  float64       \n",
      " 11  ua_walking                        14402 non-null  float64       \n",
      " 12  ua_cycling                        14402 non-null  float64       \n",
      " 13  ua_running                        14402 non-null  float64       \n",
      " 14  ua_wor                            14402 non-null  float64       \n",
      " 15  reported_anxiety                  14402 non-null  int64         \n",
      " 16  reported_depression               14402 non-null  int64         \n",
      " 17  sleep_duration                    14402 non-null  float64       \n",
      " 18  age                               14402 non-null  int64         \n",
      " 19  year                              14402 non-null  int64         \n",
      " 20  month                             14402 non-null  int64         \n",
      " 21  year_month                        14402 non-null  object        \n",
      " 22  attack_duration_days              14402 non-null  float64       \n",
      " 23  duration_in_hours                 14402 non-null  float64       \n",
      " 24  sleep_duration_hours              14402 non-null  float64       \n",
      " 25  day                               14402 non-null  period[D]     \n",
      " 26  migraine_days_per_month           14402 non-null  int64         \n",
      " 27  trigger_poor_sleep                14402 non-null  int64         \n",
      " 28  trigger_lack_sleep                14402 non-null  int64         \n",
      " 29  trigger_physical_activity         14402 non-null  int64         \n",
      " 30  trigger_lack_physical_activity    14402 non-null  int64         \n",
      " 31  trigger_stress                    14402 non-null  int64         \n",
      " 32  relief_sleep                      14402 non-null  int64         \n",
      " 33  relief_physical_activity          14402 non-null  int64         \n",
      " 34  relief_lack_physical_activity     14402 non-null  int64         \n",
      " 35  affected_activity_QoL             14402 non-null  int64         \n",
      " 36  total_physical_activity           14402 non-null  float64       \n",
      " 37  week                              14402 non-null  UInt32        \n",
      " 38  activity_group                    14402 non-null  category      \n",
      " 39  sleep_group                       14402 non-null  category      \n",
      " 40  sleep_duration_past_7_days        14402 non-null  float64       \n",
      " 41  migraine_attacks_past7days        14402 non-null  float64       \n",
      " 42  mean_migraine_duration_past7days  14402 non-null  float64       \n",
      " 43  next_migraine_in_window           14402 non-null  int64         \n",
      " 44  next_migraine_next_day            14402 non-null  int64         \n",
      " 45  severe_migraine                   14402 non-null  int64         \n",
      "dtypes: UInt32(1), category(2), datetime64[ns](1), float64(15), int64(18), object(8), period[D](1)\n",
      "memory usage: 4.8+ MB\n"
     ]
    }
   ],
   "source": [
    "df.info()"
   ]
  },
  {
   "cell_type": "code",
   "execution_count": 24,
   "id": "b948e1a5",
   "metadata": {},
   "outputs": [],
   "source": [
    "# Save the final dataset to a CSV file\n",
    "df.to_csv(final_output_path, index=False)"
   ]
  }
 ],
 "metadata": {
  "kernelspec": {
   "display_name": "Python 3 (ipykernel)",
   "language": "python",
   "name": "python3"
  },
  "language_info": {
   "codemirror_mode": {
    "name": "ipython",
    "version": 3
   },
   "file_extension": ".py",
   "mimetype": "text/x-python",
   "name": "python",
   "nbconvert_exporter": "python",
   "pygments_lexer": "ipython3",
   "version": "3.11.10"
  }
 },
 "nbformat": 4,
 "nbformat_minor": 5
}
